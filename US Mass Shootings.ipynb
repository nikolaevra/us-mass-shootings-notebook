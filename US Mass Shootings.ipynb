{
 "cells": [
  {
   "cell_type": "markdown",
   "metadata": {},
   "source": [
    "# US Mass Shootings #\n"
   ]
  },
  {
   "cell_type": "markdown",
   "metadata": {},
   "source": [
    "Analyzing data from US mass shootings [Kaggle dataset](https://www.kaggle.com/zusmani/us-mass-shootings-last-50-years), [Mother Jones dataset](http://www.motherjones.com/politics/2012/12/mass-shootings-mother-jones-full-data/)\n",
    "\n",
    "I'm not affiliated with any organizations. Hopefully, this information will help people get insights on mass shootings and help other people.\n",
    "\n",
    "All of the graphs and information are completely free to use, if you have any questions, please contact me at <nikolaevra@gmail.com>"
   ]
  },
  {
   "cell_type": "markdown",
   "metadata": {
    "collapsed": false
   },
   "source": [
    "## Part 1 - The Kaggle Dataset"
   ]
  },
  {
   "cell_type": "code",
   "execution_count": 3,
   "metadata": {
    "collapsed": false
   },
   "outputs": [
    {
     "data": {
      "text/html": [
       "\n",
       "        <style  type=\"text/css\" >\n",
       "        \n",
       "        \n",
       "        </style>\n",
       "\n",
       "        <table id=\"T_66c81412_ac47_11e7_9a6e_9d62d8019cd1\" None>\n",
       "        \n",
       "\n",
       "        <thead>\n",
       "            \n",
       "            <tr>\n",
       "                \n",
       "                \n",
       "                <th class=\"blank level0\" >\n",
       "                  \n",
       "                \n",
       "                \n",
       "                \n",
       "                <th class=\"col_heading level0 col0\" colspan=1>\n",
       "                  Snum\n",
       "                \n",
       "                \n",
       "                \n",
       "                <th class=\"col_heading level0 col1\" colspan=1>\n",
       "                  Title\n",
       "                \n",
       "                \n",
       "                \n",
       "                <th class=\"col_heading level0 col2\" colspan=1>\n",
       "                  Location\n",
       "                \n",
       "                \n",
       "                \n",
       "                <th class=\"col_heading level0 col3\" colspan=1>\n",
       "                  Date\n",
       "                \n",
       "                \n",
       "                \n",
       "                <th class=\"col_heading level0 col4\" colspan=1>\n",
       "                  Fatalities\n",
       "                \n",
       "                \n",
       "                \n",
       "                <th class=\"col_heading level0 col5\" colspan=1>\n",
       "                  Injured\n",
       "                \n",
       "                \n",
       "                \n",
       "                <th class=\"col_heading level0 col6\" colspan=1>\n",
       "                  Total victims\n",
       "                \n",
       "                \n",
       "                \n",
       "                <th class=\"col_heading level0 col7\" colspan=1>\n",
       "                  Mental Health Issues\n",
       "                \n",
       "                \n",
       "                \n",
       "                <th class=\"col_heading level0 col8\" colspan=1>\n",
       "                  Race\n",
       "                \n",
       "                \n",
       "                \n",
       "                <th class=\"col_heading level0 col9\" colspan=1>\n",
       "                  Gender\n",
       "                \n",
       "                \n",
       "                \n",
       "                <th class=\"col_heading level0 col10\" colspan=1>\n",
       "                  Latitude\n",
       "                \n",
       "                \n",
       "                \n",
       "                <th class=\"col_heading level0 col11\" colspan=1>\n",
       "                  Longitude\n",
       "                \n",
       "                \n",
       "            </tr>\n",
       "            \n",
       "        </thead>\n",
       "        <tbody>\n",
       "            \n",
       "            <tr>\n",
       "                \n",
       "                \n",
       "                <th id=\"T_66c81412_ac47_11e7_9a6e_9d62d8019cd1\"\n",
       "                 class=\"row_heading level0 row0\" rowspan=1>\n",
       "                    115\n",
       "                \n",
       "                \n",
       "                \n",
       "                <td id=\"T_66c81412_ac47_11e7_9a6e_9d62d8019cd1row0_col0\"\n",
       "                 class=\"data row0 col0\" >\n",
       "                    116\n",
       "                \n",
       "                \n",
       "                \n",
       "                <td id=\"T_66c81412_ac47_11e7_9a6e_9d62d8019cd1row0_col1\"\n",
       "                 class=\"data row0 col1\" >\n",
       "                    Mother Emanuel AME Church\n",
       "                \n",
       "                \n",
       "                \n",
       "                <td id=\"T_66c81412_ac47_11e7_9a6e_9d62d8019cd1row0_col2\"\n",
       "                 class=\"data row0 col2\" >\n",
       "                    Charleston, South Carolina\n",
       "                \n",
       "                \n",
       "                \n",
       "                <td id=\"T_66c81412_ac47_11e7_9a6e_9d62d8019cd1row0_col3\"\n",
       "                 class=\"data row0 col3\" >\n",
       "                    6/17/2015\n",
       "                \n",
       "                \n",
       "                \n",
       "                <td id=\"T_66c81412_ac47_11e7_9a6e_9d62d8019cd1row0_col4\"\n",
       "                 class=\"data row0 col4\" >\n",
       "                    9\n",
       "                \n",
       "                \n",
       "                \n",
       "                <td id=\"T_66c81412_ac47_11e7_9a6e_9d62d8019cd1row0_col5\"\n",
       "                 class=\"data row0 col5\" >\n",
       "                    0\n",
       "                \n",
       "                \n",
       "                \n",
       "                <td id=\"T_66c81412_ac47_11e7_9a6e_9d62d8019cd1row0_col6\"\n",
       "                 class=\"data row0 col6\" >\n",
       "                    9\n",
       "                \n",
       "                \n",
       "                \n",
       "                <td id=\"T_66c81412_ac47_11e7_9a6e_9d62d8019cd1row0_col7\"\n",
       "                 class=\"data row0 col7\" >\n",
       "                    Unknown\n",
       "                \n",
       "                \n",
       "                \n",
       "                <td id=\"T_66c81412_ac47_11e7_9a6e_9d62d8019cd1row0_col8\"\n",
       "                 class=\"data row0 col8\" >\n",
       "                    White American or European American\n",
       "                \n",
       "                \n",
       "                \n",
       "                <td id=\"T_66c81412_ac47_11e7_9a6e_9d62d8019cd1row0_col9\"\n",
       "                 class=\"data row0 col9\" >\n",
       "                    Male\n",
       "                \n",
       "                \n",
       "                \n",
       "                <td id=\"T_66c81412_ac47_11e7_9a6e_9d62d8019cd1row0_col10\"\n",
       "                 class=\"data row0 col10\" >\n",
       "                    32.813\n",
       "                \n",
       "                \n",
       "                \n",
       "                <td id=\"T_66c81412_ac47_11e7_9a6e_9d62d8019cd1row0_col11\"\n",
       "                 class=\"data row0 col11\" >\n",
       "                    -79.9669\n",
       "                \n",
       "                \n",
       "            </tr>\n",
       "            \n",
       "            <tr>\n",
       "                \n",
       "                \n",
       "                <th id=\"T_66c81412_ac47_11e7_9a6e_9d62d8019cd1\"\n",
       "                 class=\"row_heading level0 row1\" rowspan=1>\n",
       "                    116\n",
       "                \n",
       "                \n",
       "                \n",
       "                <td id=\"T_66c81412_ac47_11e7_9a6e_9d62d8019cd1row1_col0\"\n",
       "                 class=\"data row1 col0\" >\n",
       "                    117\n",
       "                \n",
       "                \n",
       "                \n",
       "                <td id=\"T_66c81412_ac47_11e7_9a6e_9d62d8019cd1row1_col1\"\n",
       "                 class=\"data row1 col1\" >\n",
       "                    Miami Gardens\n",
       "                \n",
       "                \n",
       "                \n",
       "                <td id=\"T_66c81412_ac47_11e7_9a6e_9d62d8019cd1row1_col2\"\n",
       "                 class=\"data row1 col2\" >\n",
       "                    Miami Gardens, Florida\n",
       "                \n",
       "                \n",
       "                \n",
       "                <td id=\"T_66c81412_ac47_11e7_9a6e_9d62d8019cd1row1_col3\"\n",
       "                 class=\"data row1 col3\" >\n",
       "                    6/16/2015\n",
       "                \n",
       "                \n",
       "                \n",
       "                <td id=\"T_66c81412_ac47_11e7_9a6e_9d62d8019cd1row1_col4\"\n",
       "                 class=\"data row1 col4\" >\n",
       "                    0\n",
       "                \n",
       "                \n",
       "                \n",
       "                <td id=\"T_66c81412_ac47_11e7_9a6e_9d62d8019cd1row1_col5\"\n",
       "                 class=\"data row1 col5\" >\n",
       "                    4\n",
       "                \n",
       "                \n",
       "                \n",
       "                <td id=\"T_66c81412_ac47_11e7_9a6e_9d62d8019cd1row1_col6\"\n",
       "                 class=\"data row1 col6\" >\n",
       "                    4\n",
       "                \n",
       "                \n",
       "                \n",
       "                <td id=\"T_66c81412_ac47_11e7_9a6e_9d62d8019cd1row1_col7\"\n",
       "                 class=\"data row1 col7\" >\n",
       "                    Unknown\n",
       "                \n",
       "                \n",
       "                \n",
       "                <td id=\"T_66c81412_ac47_11e7_9a6e_9d62d8019cd1row1_col8\"\n",
       "                 class=\"data row1 col8\" >\n",
       "                    Black American or African American\n",
       "                \n",
       "                \n",
       "                \n",
       "                <td id=\"T_66c81412_ac47_11e7_9a6e_9d62d8019cd1row1_col9\"\n",
       "                 class=\"data row1 col9\" >\n",
       "                    Male\n",
       "                \n",
       "                \n",
       "                \n",
       "                <td id=\"T_66c81412_ac47_11e7_9a6e_9d62d8019cd1row1_col10\"\n",
       "                 class=\"data row1 col10\" >\n",
       "                    25.9433\n",
       "                \n",
       "                \n",
       "                \n",
       "                <td id=\"T_66c81412_ac47_11e7_9a6e_9d62d8019cd1row1_col11\"\n",
       "                 class=\"data row1 col11\" >\n",
       "                    -80.2425\n",
       "                \n",
       "                \n",
       "            </tr>\n",
       "            \n",
       "            <tr>\n",
       "                \n",
       "                \n",
       "                <th id=\"T_66c81412_ac47_11e7_9a6e_9d62d8019cd1\"\n",
       "                 class=\"row_heading level0 row2\" rowspan=1>\n",
       "                    117\n",
       "                \n",
       "                \n",
       "                \n",
       "                <td id=\"T_66c81412_ac47_11e7_9a6e_9d62d8019cd1row2_col0\"\n",
       "                 class=\"data row2 col0\" >\n",
       "                    118\n",
       "                \n",
       "                \n",
       "                \n",
       "                <td id=\"T_66c81412_ac47_11e7_9a6e_9d62d8019cd1row2_col1\"\n",
       "                 class=\"data row2 col1\" >\n",
       "                    Trestle Trail bridge shooting\n",
       "                \n",
       "                \n",
       "                \n",
       "                <td id=\"T_66c81412_ac47_11e7_9a6e_9d62d8019cd1row2_col2\"\n",
       "                 class=\"data row2 col2\" >\n",
       "                    Menasha, Wisconsin\n",
       "                \n",
       "                \n",
       "                \n",
       "                <td id=\"T_66c81412_ac47_11e7_9a6e_9d62d8019cd1row2_col3\"\n",
       "                 class=\"data row2 col3\" >\n",
       "                    6/11/2015\n",
       "                \n",
       "                \n",
       "                \n",
       "                <td id=\"T_66c81412_ac47_11e7_9a6e_9d62d8019cd1row2_col4\"\n",
       "                 class=\"data row2 col4\" >\n",
       "                    3\n",
       "                \n",
       "                \n",
       "                \n",
       "                <td id=\"T_66c81412_ac47_11e7_9a6e_9d62d8019cd1row2_col5\"\n",
       "                 class=\"data row2 col5\" >\n",
       "                    1\n",
       "                \n",
       "                \n",
       "                \n",
       "                <td id=\"T_66c81412_ac47_11e7_9a6e_9d62d8019cd1row2_col6\"\n",
       "                 class=\"data row2 col6\" >\n",
       "                    4\n",
       "                \n",
       "                \n",
       "                \n",
       "                <td id=\"T_66c81412_ac47_11e7_9a6e_9d62d8019cd1row2_col7\"\n",
       "                 class=\"data row2 col7\" >\n",
       "                    Yes\n",
       "                \n",
       "                \n",
       "                \n",
       "                <td id=\"T_66c81412_ac47_11e7_9a6e_9d62d8019cd1row2_col8\"\n",
       "                 class=\"data row2 col8\" >\n",
       "                    Latino\n",
       "                \n",
       "                \n",
       "                \n",
       "                <td id=\"T_66c81412_ac47_11e7_9a6e_9d62d8019cd1row2_col9\"\n",
       "                 class=\"data row2 col9\" >\n",
       "                    M\n",
       "                \n",
       "                \n",
       "                \n",
       "                <td id=\"T_66c81412_ac47_11e7_9a6e_9d62d8019cd1row2_col10\"\n",
       "                 class=\"data row2 col10\" >\n",
       "                    nan\n",
       "                \n",
       "                \n",
       "                \n",
       "                <td id=\"T_66c81412_ac47_11e7_9a6e_9d62d8019cd1row2_col11\"\n",
       "                 class=\"data row2 col11\" >\n",
       "                    nan\n",
       "                \n",
       "                \n",
       "            </tr>\n",
       "            \n",
       "            <tr>\n",
       "                \n",
       "                \n",
       "                <th id=\"T_66c81412_ac47_11e7_9a6e_9d62d8019cd1\"\n",
       "                 class=\"row_heading level0 row3\" rowspan=1>\n",
       "                    118\n",
       "                \n",
       "                \n",
       "                \n",
       "                <td id=\"T_66c81412_ac47_11e7_9a6e_9d62d8019cd1row3_col0\"\n",
       "                 class=\"data row3 col0\" >\n",
       "                    119\n",
       "                \n",
       "                \n",
       "                \n",
       "                <td id=\"T_66c81412_ac47_11e7_9a6e_9d62d8019cd1row3_col1\"\n",
       "                 class=\"data row3 col1\" >\n",
       "                    Deer Lodge\n",
       "                \n",
       "                \n",
       "                \n",
       "                <td id=\"T_66c81412_ac47_11e7_9a6e_9d62d8019cd1row3_col2\"\n",
       "                 class=\"data row3 col2\" >\n",
       "                    Deer Lodge, Montana\n",
       "                \n",
       "                \n",
       "                \n",
       "                <td id=\"T_66c81412_ac47_11e7_9a6e_9d62d8019cd1row3_col3\"\n",
       "                 class=\"data row3 col3\" >\n",
       "                    6/7/2015\n",
       "                \n",
       "                \n",
       "                \n",
       "                <td id=\"T_66c81412_ac47_11e7_9a6e_9d62d8019cd1row3_col4\"\n",
       "                 class=\"data row3 col4\" >\n",
       "                    5\n",
       "                \n",
       "                \n",
       "                \n",
       "                <td id=\"T_66c81412_ac47_11e7_9a6e_9d62d8019cd1row3_col5\"\n",
       "                 class=\"data row3 col5\" >\n",
       "                    0\n",
       "                \n",
       "                \n",
       "                \n",
       "                <td id=\"T_66c81412_ac47_11e7_9a6e_9d62d8019cd1row3_col6\"\n",
       "                 class=\"data row3 col6\" >\n",
       "                    4\n",
       "                \n",
       "                \n",
       "                \n",
       "                <td id=\"T_66c81412_ac47_11e7_9a6e_9d62d8019cd1row3_col7\"\n",
       "                 class=\"data row3 col7\" >\n",
       "                    Unknown\n",
       "                \n",
       "                \n",
       "                \n",
       "                <td id=\"T_66c81412_ac47_11e7_9a6e_9d62d8019cd1row3_col8\"\n",
       "                 class=\"data row3 col8\" >\n",
       "                    White American or European American\n",
       "                \n",
       "                \n",
       "                \n",
       "                <td id=\"T_66c81412_ac47_11e7_9a6e_9d62d8019cd1row3_col9\"\n",
       "                 class=\"data row3 col9\" >\n",
       "                    Male\n",
       "                \n",
       "                \n",
       "                \n",
       "                <td id=\"T_66c81412_ac47_11e7_9a6e_9d62d8019cd1row3_col10\"\n",
       "                 class=\"data row3 col10\" >\n",
       "                    46.3976\n",
       "                \n",
       "                \n",
       "                \n",
       "                <td id=\"T_66c81412_ac47_11e7_9a6e_9d62d8019cd1row3_col11\"\n",
       "                 class=\"data row3 col11\" >\n",
       "                    -112.733\n",
       "                \n",
       "                \n",
       "            </tr>\n",
       "            \n",
       "            <tr>\n",
       "                \n",
       "                \n",
       "                <th id=\"T_66c81412_ac47_11e7_9a6e_9d62d8019cd1\"\n",
       "                 class=\"row_heading level0 row4\" rowspan=1>\n",
       "                    119\n",
       "                \n",
       "                \n",
       "                \n",
       "                <td id=\"T_66c81412_ac47_11e7_9a6e_9d62d8019cd1row4_col0\"\n",
       "                 class=\"data row4 col0\" >\n",
       "                    120\n",
       "                \n",
       "                \n",
       "                \n",
       "                <td id=\"T_66c81412_ac47_11e7_9a6e_9d62d8019cd1row4_col1\"\n",
       "                 class=\"data row4 col1\" >\n",
       "                    Cleveland\n",
       "                \n",
       "                \n",
       "                \n",
       "                <td id=\"T_66c81412_ac47_11e7_9a6e_9d62d8019cd1row4_col2\"\n",
       "                 class=\"data row4 col2\" >\n",
       "                    Cleveland, Ohio\n",
       "                \n",
       "                \n",
       "                \n",
       "                <td id=\"T_66c81412_ac47_11e7_9a6e_9d62d8019cd1row4_col3\"\n",
       "                 class=\"data row4 col3\" >\n",
       "                    5/31/2015\n",
       "                \n",
       "                \n",
       "                \n",
       "                <td id=\"T_66c81412_ac47_11e7_9a6e_9d62d8019cd1row4_col4\"\n",
       "                 class=\"data row4 col4\" >\n",
       "                    3\n",
       "                \n",
       "                \n",
       "                \n",
       "                <td id=\"T_66c81412_ac47_11e7_9a6e_9d62d8019cd1row4_col5\"\n",
       "                 class=\"data row4 col5\" >\n",
       "                    1\n",
       "                \n",
       "                \n",
       "                \n",
       "                <td id=\"T_66c81412_ac47_11e7_9a6e_9d62d8019cd1row4_col6\"\n",
       "                 class=\"data row4 col6\" >\n",
       "                    3\n",
       "                \n",
       "                \n",
       "                \n",
       "                <td id=\"T_66c81412_ac47_11e7_9a6e_9d62d8019cd1row4_col7\"\n",
       "                 class=\"data row4 col7\" >\n",
       "                    Unknown\n",
       "                \n",
       "                \n",
       "                \n",
       "                <td id=\"T_66c81412_ac47_11e7_9a6e_9d62d8019cd1row4_col8\"\n",
       "                 class=\"data row4 col8\" >\n",
       "                    Unknown\n",
       "                \n",
       "                \n",
       "                \n",
       "                <td id=\"T_66c81412_ac47_11e7_9a6e_9d62d8019cd1row4_col9\"\n",
       "                 class=\"data row4 col9\" >\n",
       "                    Male\n",
       "                \n",
       "                \n",
       "                \n",
       "                <td id=\"T_66c81412_ac47_11e7_9a6e_9d62d8019cd1row4_col10\"\n",
       "                 class=\"data row4 col10\" >\n",
       "                    41.4766\n",
       "                \n",
       "                \n",
       "                \n",
       "                <td id=\"T_66c81412_ac47_11e7_9a6e_9d62d8019cd1row4_col11\"\n",
       "                 class=\"data row4 col11\" >\n",
       "                    -81.6805\n",
       "                \n",
       "                \n",
       "            </tr>\n",
       "            \n",
       "        </tbody>\n",
       "        </table>\n",
       "        "
      ],
      "text/plain": [
       "<pandas.formats.style.Styler at 0x249fa995fd0>"
      ]
     },
     "execution_count": 3,
     "metadata": {},
     "output_type": "execute_result"
    }
   ],
   "source": [
    "import pandas as pd\n",
    "\n",
    "# Importing the dataset\n",
    "dataset = pd.read_csv('processing/datasets/Mass Shootings Dataset.csv')\n",
    "\n",
    "dataset.iloc[115:120, :].style"
   ]
  },
  {
   "cell_type": "markdown",
   "metadata": {},
   "source": [
    "## Basic analytics:"
   ]
  },
  {
   "cell_type": "code",
   "execution_count": 2,
   "metadata": {
    "collapsed": false
   },
   "outputs": [],
   "source": [
    "%matplotlib inline"
   ]
  },
  {
   "cell_type": "code",
   "execution_count": 4,
   "metadata": {
    "collapsed": false,
    "scrolled": true
   },
   "outputs": [
    {
     "data": {
      "image/png": "[encoded data removed]",
      "text/plain": [
       "<matplotlib.figure.Figure at 0x249fb4a2b00>"
      ]
     },
     "metadata": {},
     "output_type": "display_data"
    }
   ],
   "source": [
    "import matplotlib.pyplot as plt\n",
    "\n",
    "m_illness = dataset.iloc[:, 7].values\n",
    "\n",
    "# categorize all of the types of illnesses\n",
    "ill_dict = dict()\n",
    "\n",
    "for item in m_illness:\n",
    "    if item not in ill_dict:\n",
    "        ill_dict[item] = 1\n",
    "    else:\n",
    "        ill_dict[item] += 1\n",
    "\n",
    "all_illnesses = list(ill_dict.keys())\n",
    "n_per_illness = list(ill_dict.values())\n",
    "\n",
    "# plot the results\n",
    "plt.pie(n_per_illness, labels=all_illnesses, autopct='%.2f')\n",
    "plt.title('Types of Mental Illnesses Observed in Shooters')\n",
    "plt.show()"
   ]
  },
  {
   "cell_type": "markdown",
   "metadata": {},
   "source": [
    "Judge this graph for your self, but from what I see there is no distict dominance of people with mental illnesses that have caused mass shootings, so lets move on and look for some other attributes that might help us make the classification"
   ]
  },
  {
   "cell_type": "code",
   "execution_count": 15,
   "metadata": {
    "collapsed": false
   },
   "outputs": [
    {
     "data": {
      "image/png": "[encoded data removed]",
      "text/plain": [
       "<matplotlib.figure.Figure at 0x249fbf058d0>"
      ]
     },
     "metadata": {},
     "output_type": "display_data"
    }
   ],
   "source": [
    "# categorize data to make comparisons faster\n",
    "race = dataset.iloc[:, 8].values\n",
    "\n",
    "# create a dictionary to count for each category\n",
    "race_dict = dict()\n",
    "\n",
    "for item in race:\n",
    "    if item not in race_dict:\n",
    "        race_dict[item] = 1\n",
    "    else:\n",
    "        race_dict[item] += 1\n",
    "\n",
    "races = list(race_dict.keys())\n",
    "num_races = list(race_dict.values())\n",
    "y_pos = np.arange(len(races))\n",
    "\n",
    "bars = plt.barh(y_pos, num_races, align='center', alpha=0.5)\n",
    "plt.yticks(y_pos, races)\n",
    "plt.ylabel(\"Races\")\n",
    "plt.xlabel(\"# of shootings involved in\")\n",
    "plt.title('# of shootings involvement by race')\n",
    "\n",
    "plt.show()"
   ]
  },
  {
   "cell_type": "code",
   "execution_count": 10,
   "metadata": {
    "collapsed": false
   },
   "outputs": [
    {
     "data": {
      "image/png": "[encoded data removed]",
      "text/plain": [
       "<matplotlib.figure.Figure at 0x249fba6d978>"
      ]
     },
     "metadata": {},
     "output_type": "display_data"
    }
   ],
   "source": [
    "dead = dataset.iloc[:, 4].values\n",
    "injured = dataset.iloc[:, 5].values\n",
    "\n",
    "import numpy as np\n",
    "\n",
    "# Fixing random state for reproducibility\n",
    "np.random.seed(123456789)\n",
    "\n",
    "# adjust area of the circle with the number of fatalities\n",
    "N = 50\n",
    "area = np.pi * (15 * np.random.rand(N))**2\n",
    "\n",
    "plt.scatter(dead[1:], injured[1:], s=area, c='blue', alpha=0.2)\n",
    "plt.xlabel(\"Deaths\")\n",
    "plt.ylabel(\"Injuries\")\n",
    "plt.show()"
   ]
  },
  {
   "cell_type": "markdown",
   "metadata": {},
   "source": [
    "* The scatter plot above helps to see the mean size of a shooting, which ranges around 5 fatalities and 5 injuries per shooting. \n",
    "**Note:** this scatter plot does not include one of the most recent shooting, the Las Vegas one"
   ]
  },
  {
   "cell_type": "code",
   "execution_count": 13,
   "metadata": {
    "collapsed": false
   },
   "outputs": [
    {
     "data": {
      "image/png": "[encoded data removed]",
      "text/plain": [
       "<matplotlib.figure.Figure at 0x249fbbe17f0>"
      ]
     },
     "metadata": {},
     "output_type": "display_data"
    }
   ],
   "source": [
    "# plot everything exept for the most recent one in blue\n",
    "plt.scatter(dead[1:], injured[1:], s=area, c='blue', alpha=0.2)\n",
    "\n",
    "# plot the most recent shooting in red\n",
    "plt.scatter(dead[0], injured[0], s=area, c='red', alpha=1)\n",
    "\n",
    "# add a label for the shooting in Las Vegas\n",
    "plt.annotate(\"Las Vegas (Oct 1st, 2017)\", xy=(dead[0], injured[0]), xytext=(10, -50),\n",
    "        textcoords='offset points', ha='right', va='bottom',\n",
    "        arrowprops=dict(arrowstyle = '->', connectionstyle='arc3,rad=0'))\n",
    "\n",
    "plt.xlabel(\"Deaths\")\n",
    "plt.ylabel(\"Injuries\")\n",
    "plt.show()"
   ]
  },
  {
   "cell_type": "markdown",
   "metadata": {},
   "source": [
    "To provide the sense of scale of the Las Vegas shooting, it has been plotted in red. Right away, you notice how it surpasses any of the previous shootings in the number of Fatalities and injuries."
   ]
  },
  {
   "cell_type": "code",
   "execution_count": 48,
   "metadata": {
    "collapsed": false
   },
   "outputs": [
    {
     "name": "stdout",
     "output_type": "stream",
     "text": [
      "32\n"
     ]
    },
    {
     "data": {
      "image/png": "[encoded data removed]",
      "text/plain": [
       "<matplotlib.figure.Figure at 0x249fbbbeb70>"
      ]
     },
     "metadata": {},
     "output_type": "display_data"
    }
   ],
   "source": [
    "import collections\n",
    "import statistics as s\n",
    "\n",
    "# create a dictionary to count for each category\n",
    "fatal_dict = dict()\n",
    "\n",
    "for item in dead:\n",
    "    if item not in fatal_dict:\n",
    "        fatal_dict[item] = 1\n",
    "    else:\n",
    "        fatal_dict[item] += 1\n",
    "\n",
    "# sort elements in the dictionary in increasing order\n",
    "ordered_dict = collections.OrderedDict(sorted(fatal_dict.items()))\n",
    "\n",
    "# converting dictionary into a list\n",
    "deaths = list(ordered_dict.keys())\n",
    "num_deaths = list(ordered_dict.values())\n",
    "elem_count = np.arange(len(deaths))\n",
    "\n",
    "# find mean and variance\n",
    "mean = s.mean(dead)\n",
    "var = s.variance(dead)\n",
    "\n",
    "bars = plt.bar(elem_count, num_deaths, align='center', alpha=0.5)\n",
    "bars[mean].set_color('r')\n",
    "\n",
    "plt.ylabel(\"Frequency of shooting\")\n",
    "plt.xlabel(\"# of fatalities per shooting\")\n",
    "plt.title('Shooting Size Distribution')\n",
    "\n",
    "plt.show()"
   ]
  },
  {
   "cell_type": "markdown",
   "metadata": {},
   "source": [
    "The red bar in the graph above is the average value, while all of the other statistic measuremenst can be found below"
   ]
  },
  {
   "cell_type": "code",
   "execution_count": 49,
   "metadata": {
    "collapsed": false
   },
   "outputs": [
    {
     "name": "stdout",
     "output_type": "stream",
     "text": [
      "Mean: 5\n",
      "Variance: 32\n",
      "Mode: 5\n",
      "Standard Deviation: 5.656854249492381\n"
     ]
    }
   ],
   "source": [
    "mean = s.mean(dead)\n",
    "var = s.variance(dead)\n",
    "mode = s.mode(dead)\n",
    "st_dev = s.stdev(dead)\n",
    "\n",
    "print('Mean: {0}\\nVariance: {1}\\nMode: {2}\\nStandard Deviation: {3}'.format(mean, var, mode, st_dev))"
   ]
  },
  {
   "cell_type": "markdown",
   "metadata": {},
   "source": [
    "## Shootings Heatmap"
   ]
  },
  {
   "cell_type": "code",
   "execution_count": 7,
   "metadata": {
    "collapsed": false
   },
   "outputs": [
    {
     "data": {
      "text/html": [
       "<iframe width=\"900\" height=\"800\" frameborder=\"0\" scrolling=\"no\" src=\"//plot.ly/~nikolaevra/10.embed\"></iframe>"
      ],
      "text/plain": [
       "<IPython.core.display.HTML object>"
      ]
     },
     "metadata": {},
     "output_type": "display_data"
    }
   ],
   "source": [
    "%%HTML\n",
    "<iframe width=\"900\" height=\"800\" frameborder=\"0\" scrolling=\"no\" src=\"//plot.ly/~nikolaevra/10.embed\"></iframe>"
   ]
  },
  {
   "cell_type": "markdown",
   "metadata": {},
   "source": [
    "Now, lets try to look at something like time series, how did the mass shootings change over time?"
   ]
  },
  {
   "cell_type": "code",
   "execution_count": 8,
   "metadata": {
    "collapsed": false
   },
   "outputs": [
    {
     "data": {
      "image/png": "[encoded data removed]",
      "text/plain": [
       "<matplotlib.figure.Figure at 0x249fb275dd8>"
      ]
     },
     "metadata": {},
     "output_type": "display_data"
    }
   ],
   "source": [
    "dates = dataset.iloc[:, 3].values\n",
    "\n",
    "plt.figure(figsize=(20, 5))\n",
    "plt.plot_date(x=dates, y=dead, fmt=\"r-\")\n",
    "plt.title(\"US Mass Shooting Deaths Timeline\")\n",
    "plt.ylabel(\"Deaths\")\n",
    "plt.xlabel(\"Dates\")\n",
    "plt.show()"
   ]
  },
  {
   "cell_type": "markdown",
   "metadata": {},
   "source": [
    "Looks like the frequency has increased significantly after around 2010"
   ]
  },
  {
   "cell_type": "code",
   "execution_count": null,
   "metadata": {
    "collapsed": false
   },
   "outputs": [],
   "source": []
  }
 ],
 "metadata": {
  "kernelspec": {
   "display_name": "Python 3",
   "language": "python",
   "name": "python3"
  },
  "language_info": {
   "codemirror_mode": {
    "name": "ipython",
    "version": 3
   },
   "file_extension": ".py",
   "mimetype": "text/x-python",
   "name": "python",
   "nbconvert_exporter": "python",
   "pygments_lexer": "ipython3",
   "version": "3.6.0"
  }
 },
 "nbformat": 4,
 "nbformat_minor": 0
}
