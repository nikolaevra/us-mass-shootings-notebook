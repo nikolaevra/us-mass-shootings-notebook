{
 "cells": [
  {
   "cell_type": "markdown",
   "metadata": {},
   "source": [
    "# US Mass Shootings #\n"
   ]
  },
  {
   "cell_type": "markdown",
   "metadata": {
    "collapsed": false
   },
   "source": [
    "## Part 2 - Importing the dataset and analysing data"
   ]
  },
  {
   "cell_type": "code",
   "execution_count": 2,
   "metadata": {
    "collapsed": false
   },
   "outputs": [
    {
     "name": "stdout",
     "output_type": "stream",
     "text": [
      "     Snum                          Title                    Location  \\\n",
      "115   116      Mother Emanuel AME Church  Charleston, South Carolina   \n",
      "116   117                  Miami Gardens      Miami Gardens, Florida   \n",
      "117   118  Trestle Trail bridge shooting          Menasha, Wisconsin   \n",
      "118   119                     Deer Lodge         Deer Lodge, Montana   \n",
      "119   120                      Cleveland             Cleveland, Ohio   \n",
      "\n",
      "          Date  Fatalities  Injured  Total victims Mental Health Issues  \\\n",
      "115  6/17/2015           9        0              9              Unknown   \n",
      "116  6/16/2015           0        4              4              Unknown   \n",
      "117  6/11/2015           3        1              4                  Yes   \n",
      "118   6/7/2015           5        0              4              Unknown   \n",
      "119  5/31/2015           3        1              3              Unknown   \n",
      "\n",
      "                                    Race Gender   Latitude   Longitude  \n",
      "115  White American or European American   Male  32.812973  -79.966940  \n",
      "116   Black American or African American   Male  25.943267  -80.242532  \n",
      "117                               Latino      M        NaN         NaN  \n",
      "118  White American or European American   Male  46.397619 -112.732933  \n",
      "119                              Unknown   Male  41.476576  -81.680515  \n"
     ]
    }
   ],
   "source": [
    "import pandas as pd\n",
    "\n",
    "# Importing the dataset\n",
    "dataset = pd.read_csv('Mass Shootings Dataset.csv')\n",
    "\n",
    "print(dataset.iloc[115:120, :])"
   ]
  }
 ],
 "metadata": {
  "kernelspec": {
   "display_name": "Python 3",
   "language": "python",
   "name": "python3"
  },
  "language_info": {
   "codemirror_mode": {
    "name": "ipython",
    "version": 3.0
   },
   "file_extension": ".py",
   "mimetype": "text/x-python",
   "name": "python",
   "nbconvert_exporter": "python",
   "pygments_lexer": "ipython3",
   "version": "3.6.0"
  }
 },
 "nbformat": 4,
 "nbformat_minor": 0
}